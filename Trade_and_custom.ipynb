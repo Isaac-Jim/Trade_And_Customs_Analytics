{
 "cells": [
  {
   "cell_type": "code",
   "execution_count": 35,
   "metadata": {},
   "outputs": [],
   "source": [
    "# importing all packages i will need for data cleaning , manipulation,\n",
    "#visualisation, data preprocessing, model building and model evaluation\n",
    "import pandas as pd\n",
    "import numpy as np\n",
    "import seaborn as sns\n",
    "import matplotlib.pyplot  as plt\n",
    "from sklearn.preprocessing import  LabelEncoder\n",
    "from sklearn.preprocessing import  OneHotEncoder\n",
    "from sklearn.linear_model import LinearRegression\n",
    "from sklearn.ensemble import RandomForestRegressor\n",
    "import lightgbm as lgb\n",
    "import xgboost as xgb\n",
    "from sklearn.metrics import  r2_score,mean_absolute_error,root_mean_squared_error\n"
   ]
  },
  {
   "cell_type": "code",
   "execution_count": 36,
   "metadata": {},
   "outputs": [],
   "source": [
    "#loading excel data as a dataframe known as df\n",
    "df = pd.read_excel('Project_custom-import_data.xlsx')"
   ]
  },
  {
   "cell_type": "code",
   "execution_count": 37,
   "metadata": {},
   "outputs": [
    {
     "data": {
      "text/html": [
       "<div>\n",
       "<style scoped>\n",
       "    .dataframe tbody tr th:only-of-type {\n",
       "        vertical-align: middle;\n",
       "    }\n",
       "\n",
       "    .dataframe tbody tr th {\n",
       "        vertical-align: top;\n",
       "    }\n",
       "\n",
       "    .dataframe thead th {\n",
       "        text-align: right;\n",
       "    }\n",
       "</style>\n",
       "<table border=\"1\" class=\"dataframe\">\n",
       "  <thead>\n",
       "    <tr style=\"text-align: right;\">\n",
       "      <th></th>\n",
       "      <th>Unnamed: 0</th>\n",
       "      <th>Custom Office</th>\n",
       "      <th>Reg Number</th>\n",
       "      <th>Importer</th>\n",
       "      <th>HS Code</th>\n",
       "      <th>FOB Value (N)</th>\n",
       "      <th>CIF Value (N)</th>\n",
       "      <th>Total Tax(N)</th>\n",
       "      <th>Receipt Number</th>\n",
       "      <th>Receipt Date</th>\n",
       "      <th>Mass(KG)</th>\n",
       "      <th>Country  of Origin</th>\n",
       "      <th>Country  of Supply</th>\n",
       "      <th>Nbr Of Containers</th>\n",
       "      <th>Container Nbr</th>\n",
       "      <th>Container Size</th>\n",
       "    </tr>\n",
       "  </thead>\n",
       "  <tbody>\n",
       "    <tr>\n",
       "      <th>0</th>\n",
       "      <td>0</td>\n",
       "      <td>UA PORT</td>\n",
       "      <td>C1195</td>\n",
       "      <td>29143</td>\n",
       "      <td>12900000</td>\n",
       "      <td>1046575</td>\n",
       "      <td>1119220</td>\n",
       "      <td>137105</td>\n",
       "      <td>R599</td>\n",
       "      <td>03/07/1866</td>\n",
       "      <td>126</td>\n",
       "      <td>Germany</td>\n",
       "      <td>NaN</td>\n",
       "      <td>0</td>\n",
       "      <td>NaN</td>\n",
       "      <td>NaN</td>\n",
       "    </tr>\n",
       "    <tr>\n",
       "      <th>1</th>\n",
       "      <td>1</td>\n",
       "      <td>UA PORT</td>\n",
       "      <td>C1195</td>\n",
       "      <td>29143</td>\n",
       "      <td>36700000</td>\n",
       "      <td>216957</td>\n",
       "      <td>232002</td>\n",
       "      <td>68365</td>\n",
       "      <td>R599</td>\n",
       "      <td>03/07/1866</td>\n",
       "      <td>26</td>\n",
       "      <td>Germany</td>\n",
       "      <td>NaN</td>\n",
       "      <td>0</td>\n",
       "      <td>NaN</td>\n",
       "      <td>NaN</td>\n",
       "    </tr>\n",
       "    <tr>\n",
       "      <th>2</th>\n",
       "      <td>2</td>\n",
       "      <td>UA PORT</td>\n",
       "      <td>C1195</td>\n",
       "      <td>29143</td>\n",
       "      <td>39390000</td>\n",
       "      <td>172037</td>\n",
       "      <td>183858</td>\n",
       "      <td>54415</td>\n",
       "      <td>R599</td>\n",
       "      <td>03/07/1866</td>\n",
       "      <td>21</td>\n",
       "      <td>Germany</td>\n",
       "      <td>NaN</td>\n",
       "      <td>0</td>\n",
       "      <td>NaN</td>\n",
       "      <td>NaN</td>\n",
       "    </tr>\n",
       "    <tr>\n",
       "      <th>3</th>\n",
       "      <td>3</td>\n",
       "      <td>UA PORT</td>\n",
       "      <td>C1277</td>\n",
       "      <td>62056</td>\n",
       "      <td>40890000</td>\n",
       "      <td>776007</td>\n",
       "      <td>915286</td>\n",
       "      <td>162868</td>\n",
       "      <td>R621</td>\n",
       "      <td>03/08/1866</td>\n",
       "      <td>71</td>\n",
       "      <td>Belgium</td>\n",
       "      <td>Belgium</td>\n",
       "      <td>0</td>\n",
       "      <td>NaN</td>\n",
       "      <td>NaN</td>\n",
       "    </tr>\n",
       "    <tr>\n",
       "      <th>4</th>\n",
       "      <td>4</td>\n",
       "      <td>UA PORT</td>\n",
       "      <td>C1292</td>\n",
       "      <td>93763</td>\n",
       "      <td>37100000</td>\n",
       "      <td>234651</td>\n",
       "      <td>301040</td>\n",
       "      <td>37415</td>\n",
       "      <td>R614</td>\n",
       "      <td>03/08/1866</td>\n",
       "      <td>45</td>\n",
       "      <td>Turkey</td>\n",
       "      <td>Turkey</td>\n",
       "      <td>0</td>\n",
       "      <td>NaN</td>\n",
       "      <td>NaN</td>\n",
       "    </tr>\n",
       "  </tbody>\n",
       "</table>\n",
       "</div>"
      ],
      "text/plain": [
       "   Unnamed: 0 Custom Office Reg Number  Importer   HS Code  FOB Value (N)  \\\n",
       "0           0       UA PORT      C1195     29143  12900000        1046575   \n",
       "1           1       UA PORT      C1195     29143  36700000         216957   \n",
       "2           2       UA PORT      C1195     29143  39390000         172037   \n",
       "3           3       UA PORT      C1277     62056  40890000         776007   \n",
       "4           4       UA PORT      C1292     93763  37100000         234651   \n",
       "\n",
       "   CIF Value (N)  Total Tax(N) Receipt Number Receipt Date  Mass(KG)  \\\n",
       "0        1119220        137105           R599   03/07/1866       126   \n",
       "1         232002         68365           R599   03/07/1866        26   \n",
       "2         183858         54415           R599   03/07/1866        21   \n",
       "3         915286        162868           R621   03/08/1866        71   \n",
       "4         301040         37415           R614   03/08/1866        45   \n",
       "\n",
       "  Country  of Origin Country  of Supply  Nbr Of Containers Container Nbr  \\\n",
       "0            Germany                NaN                  0           NaN   \n",
       "1            Germany                NaN                  0           NaN   \n",
       "2            Germany                NaN                  0           NaN   \n",
       "3            Belgium            Belgium                  0           NaN   \n",
       "4             Turkey             Turkey                  0           NaN   \n",
       "\n",
       "  Container Size  \n",
       "0            NaN  \n",
       "1            NaN  \n",
       "2            NaN  \n",
       "3            NaN  \n",
       "4            NaN  "
      ]
     },
     "execution_count": 37,
     "metadata": {},
     "output_type": "execute_result"
    }
   ],
   "source": [
    "df.head()"
   ]
  },
  {
   "cell_type": "code",
   "execution_count": 38,
   "metadata": {},
   "outputs": [
    {
     "data": {
      "text/plain": [
       "np.int64(0)"
      ]
     },
     "execution_count": 38,
     "metadata": {},
     "output_type": "execute_result"
    }
   ],
   "source": [
    "#checking for duplicate rows\n",
    "df.duplicated().sum()"
   ]
  },
  {
   "cell_type": "code",
   "execution_count": 39,
   "metadata": {},
   "outputs": [
    {
     "name": "stdout",
     "output_type": "stream",
     "text": [
      "<class 'pandas.core.frame.DataFrame'>\n",
      "RangeIndex: 77789 entries, 0 to 77788\n",
      "Data columns (total 16 columns):\n",
      " #   Column              Non-Null Count  Dtype \n",
      "---  ------              --------------  ----- \n",
      " 0   Unnamed: 0          77789 non-null  int64 \n",
      " 1   Custom Office       77789 non-null  object\n",
      " 2   Reg Number          77789 non-null  object\n",
      " 3   Importer            77789 non-null  int64 \n",
      " 4   HS Code             77789 non-null  int64 \n",
      " 5   FOB Value (N)       77789 non-null  int64 \n",
      " 6   CIF Value (N)       77789 non-null  int64 \n",
      " 7   Total Tax(N)        77789 non-null  int64 \n",
      " 8   Receipt Number      76493 non-null  object\n",
      " 9   Receipt Date        76493 non-null  object\n",
      " 10  Mass(KG)            77789 non-null  int64 \n",
      " 11  Country  of Origin  77789 non-null  object\n",
      " 12  Country  of Supply  76826 non-null  object\n",
      " 13  Nbr Of Containers   77789 non-null  int64 \n",
      " 14  Container Nbr       45436 non-null  object\n",
      " 15  Container Size      45436 non-null  object\n",
      "dtypes: int64(8), object(8)\n",
      "memory usage: 9.5+ MB\n"
     ]
    }
   ],
   "source": [
    "df.info()"
   ]
  },
  {
   "cell_type": "code",
   "execution_count": 40,
   "metadata": {},
   "outputs": [
    {
     "data": {
      "text/plain": [
       "Index(['Unnamed: 0', 'Custom Office', 'Reg Number', 'Importer', 'HS Code',\n",
       "       'FOB Value (N)', 'CIF Value (N)', 'Total Tax(N)', 'Receipt Number',\n",
       "       'Receipt Date', 'Mass(KG)', 'Country  of Origin', 'Country  of Supply',\n",
       "       'Nbr Of Containers', 'Container Nbr', 'Container Size'],\n",
       "      dtype='object')"
      ]
     },
     "execution_count": 40,
     "metadata": {},
     "output_type": "execute_result"
    }
   ],
   "source": [
    "df.columns"
   ]
  },
  {
   "cell_type": "code",
   "execution_count": 41,
   "metadata": {},
   "outputs": [],
   "source": [
    "df.drop('Unnamed: 0',axis=1,inplace=True)"
   ]
  },
  {
   "cell_type": "code",
   "execution_count": 42,
   "metadata": {},
   "outputs": [
    {
     "data": {
      "text/plain": [
       "Custom Office         object\n",
       "Reg Number            object\n",
       "Importer               int64\n",
       "HS Code                int64\n",
       "FOB Value (N)          int64\n",
       "CIF Value (N)          int64\n",
       "Total Tax(N)           int64\n",
       "Receipt Number        object\n",
       "Receipt Date          object\n",
       "Mass(KG)               int64\n",
       "Country  of Origin    object\n",
       "Country  of Supply    object\n",
       "Nbr Of Containers      int64\n",
       "Container Nbr         object\n",
       "Container Size        object\n",
       "dtype: object"
      ]
     },
     "execution_count": 42,
     "metadata": {},
     "output_type": "execute_result"
    }
   ],
   "source": [
    "df.dtypes"
   ]
  },
  {
   "cell_type": "code",
   "execution_count": 43,
   "metadata": {},
   "outputs": [
    {
     "data": {
      "text/plain": [
       "Custom Office             0\n",
       "Reg Number                0\n",
       "Importer                  0\n",
       "HS Code                   0\n",
       "FOB Value (N)             0\n",
       "CIF Value (N)             0\n",
       "Total Tax(N)              0\n",
       "Receipt Number         1296\n",
       "Receipt Date           1296\n",
       "Mass(KG)                  0\n",
       "Country  of Origin        0\n",
       "Country  of Supply      963\n",
       "Nbr Of Containers         0\n",
       "Container Nbr         32353\n",
       "Container Size        32353\n",
       "dtype: int64"
      ]
     },
     "execution_count": 43,
     "metadata": {},
     "output_type": "execute_result"
    }
   ],
   "source": [
    "df.isna().sum()"
   ]
  },
  {
   "cell_type": "code",
   "execution_count": 44,
   "metadata": {},
   "outputs": [
    {
     "data": {
      "text/plain": [
       "count      76493\n",
       "unique     42977\n",
       "top       R54402\n",
       "freq          90\n",
       "Name: Receipt Number, dtype: object"
      ]
     },
     "execution_count": 44,
     "metadata": {},
     "output_type": "execute_result"
    }
   ],
   "source": [
    "df['Receipt Number'].describe()"
   ]
  },
  {
   "cell_type": "code",
   "execution_count": 45,
   "metadata": {},
   "outputs": [
    {
     "data": {
      "text/plain": [
       "0        R599\n",
       "1        R599\n",
       "2        R599\n",
       "3        R621\n",
       "4        R614\n",
       "         ... \n",
       "77784     NaN\n",
       "77785     NaN\n",
       "77786     NaN\n",
       "77787     NaN\n",
       "77788     NaN\n",
       "Name: Receipt Number, Length: 77789, dtype: object"
      ]
     },
     "execution_count": 45,
     "metadata": {},
     "output_type": "execute_result"
    }
   ],
   "source": [
    "df['Receipt Number']"
   ]
  },
  {
   "cell_type": "code",
   "execution_count": 46,
   "metadata": {},
   "outputs": [
    {
     "data": {
      "text/plain": [
       "array(['Germany', 'Belgium', 'Turkey', 'China', 'Azerbaijan',\n",
       "       'United States', 'United Kingdom', 'Finland', 'Canada',\n",
       "       'Republic of South Africa', 'Italy', 'Denmark',\n",
       "       'Korea, Republic of', 'France', 'Netherlands', 'Kenya', 'India',\n",
       "       'Israel', 'Poland', 'Malaysia', 'Switzerland', 'Hong Kong',\n",
       "       'United Arab Emirates', 'Ethiopia', 'Taiwan, Province of China',\n",
       "       'Tokelau', 'Norway', 'Swaziland', 'Saudi Arabia', 'Czech Republic',\n",
       "       'Singapore', 'Cambodia', 'Austria', 'Australia',\n",
       "       'United Republic of Tanzania', 'Bulgaria', 'Morocco', 'Japan',\n",
       "       'Thailand', 'Spain', 'Cameroon', 'Lebanon', 'Indonesia',\n",
       "       'Viet Nam', 'Brazil', 'Philippines', 'Sweden', 'Egypt', 'Hungary',\n",
       "       'Greece', 'Latvia', 'Uganda', 'Mexico', 'Ukraine', 'Angola',\n",
       "       'Estonia', 'Syrian Arab Republic', 'Ghana', 'Costa Rica',\n",
       "       \"Korea, Democratic People's Rep. of\", 'Netherlands Antilles',\n",
       "       'Romania', 'Slovakia', 'Saint Vincent and the Grenadines',\n",
       "       'Equatorial Guinea', 'Nigeria', 'Tunisia', 'Papua New Guinea',\n",
       "       'Luxembourg', 'Mozambique', 'Ireland', 'Slovenia', 'Lithuania',\n",
       "       \"Cote d'Ivoire\", 'Antigua and Barbuda', 'Isle of Man',\n",
       "       'New Zealand', 'Argentina', 'Cyprus', 'Niger', 'Aruba', 'Malta',\n",
       "       'Nepal', 'Bouvet Island', 'Georgia', 'Russian Federation',\n",
       "       'Iran, Islamic Republic of', 'Qatar', 'Jamaica', 'Kuwait', 'Oman',\n",
       "       'Liechtenstein', 'Gabon', 'Senegal', 'Mauritius', 'Guinea',\n",
       "       'United States Virgin Islands', 'Panama', 'Bahrain', 'Colombia',\n",
       "       'Portugal', 'Holy See (Vatican)', 'British Virgin Islands',\n",
       "       'Libyan Arab Jamahiriya', 'Iceland', 'Trinidad and Tobago',\n",
       "       'Bosnia and Herzegovina', 'British Indian Ocean Territory',\n",
       "       'Guadeloupe', 'Mali', 'Benin', 'Zambia', 'Pakistan', 'Congo',\n",
       "       'Venezuela', 'Croatia', 'East Timor', 'Bangladesh',\n",
       "       'Brunei Darussalam', 'Albania', 'Sri Lanka', 'Kazakstan',\n",
       "       'Dominican Republic', 'Andorra', 'Ecuador', 'Guam',\n",
       "       'New Caledonia', 'Togo', 'Anguilla', 'Cape Verde', 'Armenia',\n",
       "       'Gulder', 'Namibia', 'Madagascar', 'Saint Pierre and Miquelon',\n",
       "       'Cocos (Keeling) Islands', 'Sierra Leone',\n",
       "       'Christmas Island[Australia]'], dtype=object)"
      ]
     },
     "execution_count": 46,
     "metadata": {},
     "output_type": "execute_result"
    }
   ],
   "source": [
    "df['Country  of Origin'].unique()"
   ]
  },
  {
   "cell_type": "code",
   "execution_count": 47,
   "metadata": {},
   "outputs": [],
   "source": [
    "import re"
   ]
  },
  {
   "cell_type": "code",
   "execution_count": null,
   "metadata": {},
   "outputs": [],
   "source": []
  },
  {
   "cell_type": "code",
   "execution_count": 51,
   "metadata": {},
   "outputs": [],
   "source": [
    "korea_countries =df[df['Country  of Origin'].str.contains('orea',regex=True,flags=re.I)]"
   ]
  },
  {
   "cell_type": "code",
   "execution_count": 52,
   "metadata": {},
   "outputs": [
    {
     "data": {
      "text/plain": [
       "array(['Korea, Republic of', \"Korea, Democratic People's Rep. of\"],\n",
       "      dtype=object)"
      ]
     },
     "execution_count": 52,
     "metadata": {},
     "output_type": "execute_result"
    }
   ],
   "source": [
    "korea_countries['Country  of Origin'].unique()"
   ]
  },
  {
   "cell_type": "code",
   "execution_count": 53,
   "metadata": {},
   "outputs": [
    {
     "data": {
      "text/plain": [
       "0                       Germany\n",
       "1                       Germany\n",
       "2                       Germany\n",
       "3                       Belgium\n",
       "4                        Turkey\n",
       "                  ...          \n",
       "77784    British Virgin Islands\n",
       "77785    British Virgin Islands\n",
       "77786    British Virgin Islands\n",
       "77787    British Virgin Islands\n",
       "77788    British Virgin Islands\n",
       "Name: Country  of Origin, Length: 77789, dtype: object"
      ]
     },
     "execution_count": 53,
     "metadata": {},
     "output_type": "execute_result"
    }
   ],
   "source": [
    "df['Country  of Origin'].str.replace('\"Korea','Korea')"
   ]
  },
  {
   "cell_type": "code",
   "execution_count": 55,
   "metadata": {},
   "outputs": [
    {
     "data": {
      "text/plain": [
       "0                       Germany\n",
       "1                       Germany\n",
       "2                       Germany\n",
       "3                       Belgium\n",
       "4                        Turkey\n",
       "                  ...          \n",
       "77784    British Virgin Islands\n",
       "77785    British Virgin Islands\n",
       "77786    British Virgin Islands\n",
       "77787    British Virgin Islands\n",
       "77788    British Virgin Islands\n",
       "Name: Country  of Origin, Length: 77789, dtype: object"
      ]
     },
     "execution_count": 55,
     "metadata": {},
     "output_type": "execute_result"
    }
   ],
   "source": [
    "df['Country  of Origin'].str.replace('\\'Korea','Korea')"
   ]
  },
  {
   "cell_type": "code",
   "execution_count": 56,
   "metadata": {},
   "outputs": [
    {
     "data": {
      "text/plain": [
       "array(['Germany', 'Belgium', 'Turkey', 'China', 'Azerbaijan',\n",
       "       'United States', 'United Kingdom', 'Finland', 'Canada',\n",
       "       'Republic of South Africa', 'Italy', 'Denmark',\n",
       "       'Korea, Republic of', 'France', 'Netherlands', 'Kenya', 'India',\n",
       "       'Israel', 'Poland', 'Malaysia', 'Switzerland', 'Hong Kong',\n",
       "       'United Arab Emirates', 'Ethiopia', 'Taiwan, Province of China',\n",
       "       'Tokelau', 'Norway', 'Swaziland', 'Saudi Arabia', 'Czech Republic',\n",
       "       'Singapore', 'Cambodia', 'Austria', 'Australia',\n",
       "       'United Republic of Tanzania', 'Bulgaria', 'Morocco', 'Japan',\n",
       "       'Thailand', 'Spain', 'Cameroon', 'Lebanon', 'Indonesia',\n",
       "       'Viet Nam', 'Brazil', 'Philippines', 'Sweden', 'Egypt', 'Hungary',\n",
       "       'Greece', 'Latvia', 'Uganda', 'Mexico', 'Ukraine', 'Angola',\n",
       "       'Estonia', 'Syrian Arab Republic', 'Ghana', 'Costa Rica',\n",
       "       \"Korea, Democratic People's Rep. of\", 'Netherlands Antilles',\n",
       "       'Romania', 'Slovakia', 'Saint Vincent and the Grenadines',\n",
       "       'Equatorial Guinea', 'Nigeria', 'Tunisia', 'Papua New Guinea',\n",
       "       'Luxembourg', 'Mozambique', 'Ireland', 'Slovenia', 'Lithuania',\n",
       "       \"Cote d'Ivoire\", 'Antigua and Barbuda', 'Isle of Man',\n",
       "       'New Zealand', 'Argentina', 'Cyprus', 'Niger', 'Aruba', 'Malta',\n",
       "       'Nepal', 'Bouvet Island', 'Georgia', 'Russian Federation',\n",
       "       'Iran, Islamic Republic of', 'Qatar', 'Jamaica', 'Kuwait', 'Oman',\n",
       "       'Liechtenstein', 'Gabon', 'Senegal', 'Mauritius', 'Guinea',\n",
       "       'United States Virgin Islands', 'Panama', 'Bahrain', 'Colombia',\n",
       "       'Portugal', 'Holy See (Vatican)', 'British Virgin Islands',\n",
       "       'Libyan Arab Jamahiriya', 'Iceland', 'Trinidad and Tobago',\n",
       "       'Bosnia and Herzegovina', 'British Indian Ocean Territory',\n",
       "       'Guadeloupe', 'Mali', 'Benin', 'Zambia', 'Pakistan', 'Congo',\n",
       "       'Venezuela', 'Croatia', 'East Timor', 'Bangladesh',\n",
       "       'Brunei Darussalam', 'Albania', 'Sri Lanka', 'Kazakstan',\n",
       "       'Dominican Republic', 'Andorra', 'Ecuador', 'Guam',\n",
       "       'New Caledonia', 'Togo', 'Anguilla', 'Cape Verde', 'Armenia',\n",
       "       'Gulder', 'Namibia', 'Madagascar', 'Saint Pierre and Miquelon',\n",
       "       'Cocos (Keeling) Islands', 'Sierra Leone',\n",
       "       'Christmas Island[Australia]'], dtype=object)"
      ]
     },
     "execution_count": 56,
     "metadata": {},
     "output_type": "execute_result"
    }
   ],
   "source": [
    "df['Country  of Origin'].unique()"
   ]
  },
  {
   "cell_type": "code",
   "execution_count": null,
   "metadata": {},
   "outputs": [],
   "source": []
  },
  {
   "cell_type": "code",
   "execution_count": null,
   "metadata": {},
   "outputs": [],
   "source": []
  },
  {
   "cell_type": "code",
   "execution_count": null,
   "metadata": {},
   "outputs": [],
   "source": []
  },
  {
   "cell_type": "code",
   "execution_count": null,
   "metadata": {},
   "outputs": [],
   "source": []
  },
  {
   "cell_type": "code",
   "execution_count": null,
   "metadata": {},
   "outputs": [],
   "source": []
  },
  {
   "cell_type": "code",
   "execution_count": null,
   "metadata": {},
   "outputs": [],
   "source": []
  },
  {
   "cell_type": "code",
   "execution_count": null,
   "metadata": {},
   "outputs": [],
   "source": []
  },
  {
   "cell_type": "code",
   "execution_count": null,
   "metadata": {},
   "outputs": [],
   "source": []
  },
  {
   "cell_type": "code",
   "execution_count": null,
   "metadata": {},
   "outputs": [],
   "source": []
  },
  {
   "cell_type": "code",
   "execution_count": null,
   "metadata": {},
   "outputs": [],
   "source": []
  },
  {
   "cell_type": "code",
   "execution_count": null,
   "metadata": {},
   "outputs": [],
   "source": []
  },
  {
   "cell_type": "code",
   "execution_count": null,
   "metadata": {},
   "outputs": [],
   "source": []
  },
  {
   "cell_type": "code",
   "execution_count": null,
   "metadata": {},
   "outputs": [],
   "source": []
  },
  {
   "cell_type": "code",
   "execution_count": null,
   "metadata": {},
   "outputs": [],
   "source": []
  }
 ],
 "metadata": {
  "kernelspec": {
   "display_name": "Python 3",
   "language": "python",
   "name": "python3"
  },
  "language_info": {
   "codemirror_mode": {
    "name": "ipython",
    "version": 3
   },
   "file_extension": ".py",
   "mimetype": "text/x-python",
   "name": "python",
   "nbconvert_exporter": "python",
   "pygments_lexer": "ipython3",
   "version": "3.13.1"
  }
 },
 "nbformat": 4,
 "nbformat_minor": 2
}
